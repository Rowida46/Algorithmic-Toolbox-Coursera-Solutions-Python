{
 "cells": [
  {
   "cell_type": "code",
   "execution_count": 22,
   "metadata": {},
   "outputs": [
    {
     "name": "stdout",
     "output_type": "stream",
     "text": [
      "7\n",
      "1 2 3 4 5 6 7\n",
      "7\n",
      "11\n",
      "13\n"
     ]
    }
   ],
   "source": [
    "n = int(input())\n",
    "l = list(map (int , input().split()))\n",
    "L = 0 ; M =0 ; l =sorted(l)#[::-1]\n",
    "if n%2 != 0 :\n",
    "    L=l[0]\n",
    "    #n-=1\n",
    "while n :\n",
    "    L+=l[int(n-1)] ; M += l[int(n-2)]\n",
    "    print(L)\n",
    "    n-=2"
   ]
  },
  {
   "cell_type": "code",
   "execution_count": 36,
   "metadata": {},
   "outputs": [
    {
     "name": "stdout",
     "output_type": "stream",
     "text": [
      "42\n",
      "15 29 37 22 16 5 26 31 6 32 19 3 45 36 33 14 25 20 48 7 42 11 24 28 9 18 8 21 47 17 38 40 44 4 35 1 43 39 41 27 12 13\n",
      "527 504\n"
     ]
    }
   ],
   "source": [
    "n = int(input())\n",
    "l = list(map (int , input().split()))\n",
    "L = 0 ; M =0 ; l =sorted(l)#[::-1]\n",
    "if n%2 != 0 :\n",
    "    L=l[0]\n",
    "#else :\n",
    " #   M = l[0]\n",
    "while n >=2:\n",
    "    L+=l[int(n-1)] ; M += l[int(n-2)]\n",
    "    n-=2\n",
    "print(L , M)"
   ]
  },
  {
   "cell_type": "code",
   "execution_count": 31,
   "metadata": {},
   "outputs": [
    {
     "data": {
      "text/plain": [
       "(16, 12)"
      ]
     },
     "execution_count": 31,
     "metadata": {},
     "output_type": "execute_result"
    }
   ],
   "source": [
    "L , M"
   ]
  },
  {
   "cell_type": "code",
   "execution_count": 39,
   "metadata": {},
   "outputs": [
    {
     "name": "stdout",
     "output_type": "stream",
     "text": [
      "4\n",
      "3 2 1 2\n",
      "1 2 2 3\n"
     ]
    }
   ],
   "source": [
    "#613 418\n",
    "input()\n",
    "print(*sorted(map(int,input().split())))  # note that <<<*>>> as not to print num as a list\n"
   ]
  },
  {
   "cell_type": "code",
   "execution_count": 51,
   "metadata": {},
   "outputs": [
    {
     "name": "stdout",
     "output_type": "stream",
     "text": [
      "Dna\n",
      "dna\n"
     ]
    }
   ],
   "source": [
    "s = input()\n",
    "l=0 ; p=0\n",
    "for i in s :\n",
    "    if i.islower() :\n",
    "        l+=1\n",
    "    else :\n",
    "        p+=1\n",
    "        \n",
    "if p > l :\n",
    "    print(s.upper())\n",
    "else :\n",
    "    print(s.lower())"
   ]
  },
  {
   "cell_type": "code",
   "execution_count": 57,
   "metadata": {},
   "outputs": [
    {
     "data": {
      "text/plain": [
       "3"
      ]
     },
     "execution_count": 57,
     "metadata": {},
     "output_type": "execute_result"
    }
   ],
   "source": [
    "n//2"
   ]
  },
  {
   "cell_type": "code",
   "execution_count": 58,
   "metadata": {},
   "outputs": [
    {
     "name": "stdout",
     "output_type": "stream",
     "text": [
      "4\n",
      "1 4 3 2\n",
      "2 3 4 1\n"
     ]
    }
   ],
   "source": [
    "n = int(input())\n",
    "l = list(map(int , input().split()))\n",
    "L = 0 ; M = n-1\n",
    "while L < n//2 :\n",
    "    tmp = l[L]\n",
    "    l[L] = l[M]\n",
    "    l[M] = tmp\n",
    "    L+=1\n",
    "    M-=1\n",
    "print(*l)"
   ]
  },
  {
   "cell_type": "code",
   "execution_count": 55,
   "metadata": {},
   "outputs": [
    {
     "name": "stdout",
     "output_type": "stream",
     "text": [
      "4\n",
      "1 4 3 2\n",
      "2 4 3 1\n"
     ]
    }
   ],
   "source": [
    "#!/bin/python3\n",
    "\n",
    "import math\n",
    "import os\n",
    "import random\n",
    "import re\n",
    "import sys\n",
    "\n",
    "# Complete the reverseArray function below.\n",
    "def reverseArray(l):\n",
    "    n = len(l)\n",
    "    L = 0 ; M = n-1\n",
    "    while L <= n//2 :\n",
    "        tmp = l[L]\n",
    "        l[L] = l[M]\n",
    "        l[M] = tmp\n",
    "        L+=1\n",
    "        M-=1\n",
    "    return l\n",
    "\n",
    "if __name__ == '__main__':\n",
    "    #fptr = open(os.environ['OUTPUT_PATH'], 'w')\n",
    "\n",
    "    arr_count = int(input())\n",
    "\n",
    "    arr = list(map(int, input().rstrip().split()))\n",
    "\n",
    "    res = reverseArray(arr)\n",
    "\n",
    "    print(*res)"
   ]
  },
  {
   "cell_type": "code",
   "execution_count": 73,
   "metadata": {},
   "outputs": [
    {
     "name": "stdout",
     "output_type": "stream",
     "text": [
      "10\n",
      "1 97\n",
      "97\n",
      "2\n",
      "1 20\n",
      "20\n",
      "2\n",
      "1 26\n",
      "26\n",
      "1l\n"
     ]
    },
    {
     "ename": "ValueError",
     "evalue": "invalid literal for int() with base 10: '1l'",
     "output_type": "error",
     "traceback": [
      "\u001b[1;31m---------------------------------------------------------------------------\u001b[0m",
      "\u001b[1;31mValueError\u001b[0m                                Traceback (most recent call last)",
      "\u001b[1;32m<ipython-input-73-d17e9d9d2f58>\u001b[0m in \u001b[0;36m<module>\u001b[1;34m()\u001b[0m\n\u001b[0;32m     13\u001b[0m \u001b[0mstack\u001b[0m \u001b[1;33m=\u001b[0m \u001b[0mStack\u001b[0m\u001b[1;33m(\u001b[0m\u001b[1;33m)\u001b[0m\u001b[1;33m\u001b[0m\u001b[0m\n\u001b[0;32m     14\u001b[0m \u001b[1;32mwhile\u001b[0m \u001b[0mn\u001b[0m\u001b[1;33m:\u001b[0m\u001b[1;33m\u001b[0m\u001b[0m\n\u001b[1;32m---> 15\u001b[1;33m     \u001b[0mt\u001b[0m \u001b[1;33m=\u001b[0m \u001b[0mlist\u001b[0m\u001b[1;33m(\u001b[0m\u001b[0mmap\u001b[0m\u001b[1;33m(\u001b[0m\u001b[0mint\u001b[0m\u001b[1;33m,\u001b[0m \u001b[0minput\u001b[0m\u001b[1;33m(\u001b[0m\u001b[1;33m)\u001b[0m\u001b[1;33m.\u001b[0m\u001b[0msplit\u001b[0m\u001b[1;33m(\u001b[0m\u001b[1;33m)\u001b[0m\u001b[1;33m)\u001b[0m\u001b[1;33m)\u001b[0m\u001b[1;33m\u001b[0m\u001b[0m\n\u001b[0m\u001b[0;32m     16\u001b[0m     \u001b[1;32mif\u001b[0m \u001b[0mt\u001b[0m\u001b[1;33m[\u001b[0m\u001b[1;36m0\u001b[0m\u001b[1;33m]\u001b[0m \u001b[1;33m==\u001b[0m \u001b[1;36m1\u001b[0m \u001b[1;33m:\u001b[0m\u001b[1;33m\u001b[0m\u001b[0m\n\u001b[0;32m     17\u001b[0m         \u001b[0mstack\u001b[0m\u001b[1;33m.\u001b[0m\u001b[0mpush\u001b[0m\u001b[1;33m(\u001b[0m\u001b[0mt\u001b[0m\u001b[1;33m[\u001b[0m\u001b[1;36m1\u001b[0m\u001b[1;33m]\u001b[0m\u001b[1;33m)\u001b[0m\u001b[1;33m\u001b[0m\u001b[0m\n",
      "\u001b[1;31mValueError\u001b[0m: invalid literal for int() with base 10: '1l'"
     ]
    }
   ],
   "source": [
    "class Stack :\n",
    "    def __init__(self):\n",
    "        self.arr =[]\n",
    "    def Max(self):\n",
    "        if len(self.arr) == 0 :\n",
    "            print(\"Out of index\")\n",
    "        return max(self.arr)\n",
    "    def push(self,x):\n",
    "        self.arr.append(x)\n",
    "    def pop(self):\n",
    "        self.arr.pop()\n",
    "n = int(input())\n",
    "stack = Stack()\n",
    "while n:\n",
    "    t = list(map(int, input().split()))\n",
    "    if t[0] == 1 :\n",
    "        stack.push(t[1])\n",
    "    if t[0] == 2 :\n",
    "        stack.pop()\n",
    "    if t[0] == 3 :\n",
    "        print(stack.Max())\n",
    "    \n",
    "    n-=1\n",
    "        \n",
    "        "
   ]
  },
  {
   "cell_type": "code",
   "execution_count": 72,
   "metadata": {},
   "outputs": [
    {
     "data": {
      "text/plain": [
       "[26, 91]"
      ]
     },
     "execution_count": 72,
     "metadata": {},
     "output_type": "execute_result"
    }
   ],
   "source": [
    "stack.arr"
   ]
  },
  {
   "cell_type": "code",
   "execution_count": 70,
   "metadata": {},
   "outputs": [
    {
     "data": {
      "text/plain": [
       "0"
      ]
     },
     "execution_count": 70,
     "metadata": {},
     "output_type": "execute_result"
    }
   ],
   "source": [
    "N = int(input())\n",
    "stack = []\n",
    "for i in range(N):\n",
    "    line =input().split()\n",
    "    query = line[0]\n",
    "    if query == '1':\n",
    "        val = int(line[1:])\n",
    "        if len(stack) == 0:\n",
    "            stack.append(val)\n",
    "        else:\n",
    "            currMax = stack[-1]\n",
    "            stack.append(val if val > currMax else currMax)\n",
    "    elif query == '2':\n",
    "        stack.pop()\n",
    "    else:\n",
    "        print(stack[-1])\n"
   ]
  },
  {
   "cell_type": "code",
   "execution_count": 80,
   "metadata": {},
   "outputs": [
    {
     "name": "stdout",
     "output_type": "stream",
     "text": [
      "3\n",
      "1 1\n",
      "1 9\n",
      "3\n"
     ]
    }
   ],
   "source": [
    "n = int(input())\n",
    "Stack =[]\n",
    "while n :\n",
    "    t = list(map(int , input().split()))\n",
    "    Q = t[0]\n",
    "    if Q == 1 :\n",
    "        if len(Stack) == 0 :\n",
    "            Stack.append(t[1])\n",
    "        else :\n",
    "            Max = Stack[-1]\n",
    "            Stack.append(t[1] if t[1] > Max else Max)\n",
    "    \n",
    "    IF Q == 2 :\n",
    "        Stack.pop()\n",
    "        \n",
    "    if Q == 3:\n",
    "        print(Stac[-1])\n",
    "    \n",
    "    \n",
    "    \n",
    "    n-=1"
   ]
  },
  {
   "cell_type": "code",
   "execution_count": 77,
   "metadata": {},
   "outputs": [
    {
     "name": "stdout",
     "output_type": "stream",
     "text": [
      "2 3\n"
     ]
    },
    {
     "data": {
      "text/plain": [
       "'2'"
      ]
     },
     "execution_count": 77,
     "metadata": {},
     "output_type": "execute_result"
    }
   ],
   "source": [
    "class Queue(object):\n",
    "    def __init__(self):\n",
    "        self.f = []\n",
    "    \n",
    "    def peek(self):\n",
    "        return self.f[0]\n",
    "        \n",
    "    def pop(self):\n",
    "        self.f = self.f[1:]\n",
    "        \n",
    "    def push(self, value):\n",
    "        self.f.append(value)\n",
    "    \n",
    "queue = Queue()\n",
    "t = int(input())\n",
    "for line in range(t):\n",
    "    l = list(map(int,input().split()))\n",
    "    \n",
    "    if l[0] == 1:\n",
    "        queue.push(l[1])        \n",
    "    elif l[0] == 2:\n",
    "        queue.pop()\n",
    "    else:\n",
    "        print (queue.peek())\n",
    "        "
   ]
  },
  {
   "cell_type": "code",
   "execution_count": 78,
   "metadata": {},
   "outputs": [
    {
     "data": {
      "text/plain": [
       "'2'"
      ]
     },
     "execution_count": 78,
     "metadata": {},
     "output_type": "execute_result"
    }
   ],
   "source": [
    "t[0]"
   ]
  },
  {
   "cell_type": "code",
   "execution_count": null,
   "metadata": {},
   "outputs": [],
   "source": [
    "class ArrQueue:\n",
    "    # we need first determine the Queue capacity as a static var >> arr circle\n",
    "    capacity = 6\n",
    "    def __init__(self):\n",
    "        self.arr = [None]*ArrQueue.capacity\n",
    "        self.front = 0\n",
    "        self.size =0\n",
    "        self.tail = -1\n",
    "    \n",
    "    def deQueue(self):\n",
    "        # to dequeue :> to remove and return the first element\n",
    "        # there is 4 steps requires to dequeue\n",
    "        # 1>---------- first to store the val of the first element\n",
    "        val = self.arr[self.front]\n",
    "        # 2 >---------to make set first index as a null val\n",
    "        self.arr[self.front] = None\n",
    "        # 3>----------- to change the front position <circule arr>\n",
    "        self.arr[self.front] = (self.front) % len(self.arr) # to increament\n",
    "        # 4 >------- to decreament the size val of arr\n",
    "        self.size-=1\n",
    "       ## return the var  \n",
    "        return val\n",
    "    def enQueue(self , data):\n",
    "        # to enqueue is to increament both the size and the tail by one and to append the new item\n",
    "        # append > gonna add the new item at the end of the arr\n",
    "        avail= (self.front + self.size) % len(self.arr)\n",
    "        self.arr[avail] = data\n",
    "        self.tail +=1\n",
    "        self.size+=1\n",
    "            ## to deal with the circular arr\n",
    "        if self.tail == ArrQueue.capacity :\n",
    "            self.tail =-1    \n",
    "    def __len__(self):\n",
    "        return len(self.arr)\n",
    "    def isEmpty(self):\n",
    "        return len(self.arr)==0\n",
    "    def front(self):\n",
    "        # to return the first element\n",
    "        return self.arr[self.front]\n"
   ]
  }
 ],
 "metadata": {
  "kernelspec": {
   "display_name": "Python 3",
   "language": "python",
   "name": "python3"
  },
  "language_info": {
   "codemirror_mode": {
    "name": "ipython",
    "version": 3
   },
   "file_extension": ".py",
   "mimetype": "text/x-python",
   "name": "python",
   "nbconvert_exporter": "python",
   "pygments_lexer": "ipython3",
   "version": "3.7.0"
  }
 },
 "nbformat": 4,
 "nbformat_minor": 2
}
