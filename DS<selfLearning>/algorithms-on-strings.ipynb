{
 "cells": [
  {
   "cell_type": "code",
   "execution_count": 8,
   "metadata": {},
   "outputs": [],
   "source": [
    "def build_trie(P):\n",
    "    tree = dict()\n",
    "    tree[0] = {}\n",
    "    node_num = 1 \n",
    "    for p in P :\n",
    "        curr = 0\n",
    "        for ch in p :\n",
    "            if ch not in tree[curr]:\n",
    "                tree[curr][ch] = node_num\n",
    "                tree[node_num] = {} ### to create a new branch\n",
    "                node_num +=1\n",
    "            curr = tree[curr][ch]\n",
    "    return tree\n"
   ]
  },
  {
   "cell_type": "code",
   "execution_count": 17,
   "metadata": {},
   "outputs": [
    {
     "name": "stdout",
     "output_type": "stream",
     "text": [
      "1 ATA\n",
      "0->1:A\n",
      "1->2:T\n",
      "2->3:A\n"
     ]
    }
   ],
   "source": [
    "if __name__ == '__main__':\n",
    "    P = input().split()[1:]\n",
    "    trie = build_trie(P)\n",
    "    for node in tree:\n",
    "        for ch in tree[node]:\n",
    "            print(\"{}->{}:{}\".format(node, tree[node][ch], ch))"
   ]
  },
  {
   "cell_type": "code",
   "execution_count": 13,
   "metadata": {},
   "outputs": [
    {
     "data": {
      "text/plain": [
       "{0: {'A': 1}, 1: {'T': 2}, 2: {'A': 3}, 3: {}}"
      ]
     },
     "execution_count": 13,
     "metadata": {},
     "output_type": "execute_result"
    }
   ],
   "source": [
    "trie"
   ]
  },
  {
   "cell_type": "markdown",
   "metadata": {},
   "source": [
    "## trie matching"
   ]
  },
  {
   "cell_type": "code",
   "execution_count": 28,
   "metadata": {},
   "outputs": [],
   "source": [
    "class node :\n",
    "    def __init__(self):\n",
    "        self.next = {}\n",
    "        self.isleaf = False"
   ]
  },
  {
   "cell_type": "code",
   "execution_count": 31,
   "metadata": {},
   "outputs": [],
   "source": [
    "def trie_matching(S , n , P):\n",
    "    #### to frist build trie\n",
    "    root = node()\n",
    "    res = []\n",
    "    for p in P :\n",
    "        curr = root\n",
    "        for i , ch in enumerate(p) : ### i to keep tracking of the len to mark ifleaf = true\n",
    "            if ch not in curr.next :\n",
    "                curr.next[ch] = node() ### to create a new brach\n",
    "            if i == len(p)-1:\n",
    "                curr.next[ch].isleaf = True\n",
    "            else :\n",
    "                curr = curr.next[ch]\n",
    "### TO check matching \n",
    "    for i in range(len(S)):\n",
    "        curr = root\n",
    "        index = i \n",
    "        while index < len(S):\n",
    "            ch = S[index]\n",
    "            if ch not in curr.next :\n",
    "                break\n",
    "            curr = curr.next[ch]\n",
    "            if curr.isleaf:\n",
    "                res.append(i)\n",
    "                break\n",
    "            index+=1\n",
    "    return res\n",
    "    "
   ]
  },
  {
   "cell_type": "code",
   "execution_count": 32,
   "metadata": {},
   "outputs": [
    {
     "name": "stdout",
     "output_type": "stream",
     "text": [
      "AAA\n",
      "1\n",
      "AA\n",
      "0 1\n",
      "\n"
     ]
    }
   ],
   "source": [
    "text = input()\n",
    "n = int (input())\n",
    "patterns = []\n",
    "for i in range (n):\n",
    "    patterns += [input()]\n",
    "\n",
    "ans = trie_matching (text, n, patterns)\n",
    "\n",
    "print (' '.join (map (str, ans)) + '\\n')"
   ]
  },
  {
   "cell_type": "markdown",
   "metadata": {},
   "source": [
    "### BWT"
   ]
  },
  {
   "cell_type": "code",
   "execution_count": 33,
   "metadata": {},
   "outputs": [
    {
     "name": "stdout",
     "output_type": "stream",
     "text": [
      "code$\n",
      "e$odc\n"
     ]
    }
   ],
   "source": [
    "# use python3\n",
    "s = input()\n",
    "BWT = []\n",
    "last = []\n",
    "for i in range(len(s)):\n",
    "    s = s[1:] + s[0]\n",
    "    BWT.append(s)\n",
    "last =[]\n",
    "for i in sorted(BWT):\n",
    "    last.append(i[-1])\n",
    "print(''.join(last))  "
   ]
  },
  {
   "cell_type": "markdown",
   "metadata": {},
   "source": [
    "### inverse BWT"
   ]
  },
  {
   "cell_type": "code",
   "execution_count": 34,
   "metadata": {},
   "outputs": [
    {
     "name": "stdout",
     "output_type": "stream",
     "text": [
      "AC$A\n"
     ]
    },
    {
     "data": {
      "text/plain": [
       "'ACA$'"
      ]
     },
     "execution_count": 34,
     "metadata": {},
     "output_type": "execute_result"
    }
   ],
   "source": [
    "# use python3\n",
    "def inv_BWT(BWT):\n",
    "    L = []\n",
    "    A, C, G , T = 1, 1, 1, 1\n",
    "    for ch in BWT:\n",
    "        if ch == \"$\":\n",
    "            L.append((\"$\" , 0))\n",
    "        elif ch ==\"A\":\n",
    "            L.append((\"A\" , A))\n",
    "            A+=1\n",
    "        elif ch == \"C\":\n",
    "            L.append((\"C\" , C))\n",
    "            C+=1\n",
    "        elif ch == \"G\":\n",
    "            L.append((\"G\" , G))\n",
    "            G+=1\n",
    "        else :\n",
    "            L.append((\"L\" , L))\n",
    "            T+=1\n",
    "    firstColunm = sorted(L)\n",
    "    LtoF = {}\n",
    "    for i in range(len(firstColunm)):\n",
    "        LtoF[firstColunm[i]] = L[i]\n",
    "    res = \"\"\n",
    "    nextch = (\"$\" , 0)\n",
    "    while len(res) < len(firstColunm):\n",
    "        res += nextch[0]\n",
    "        nextch = LtoF[nextch]\n",
    "    res = res[::-1]\n",
    "    return res \n",
    "s = input()\n",
    "inv_BWT(s)  "
   ]
  },
  {
   "cell_type": "markdown",
   "metadata": {},
   "source": [
    "### Suffix_array"
   ]
  },
  {
   "cell_type": "code",
   "execution_count": 35,
   "metadata": {},
   "outputs": [
    {
     "name": "stdout",
     "output_type": "stream",
     "text": [
      "GAC$\n",
      "3 1 2 0\n"
     ]
    }
   ],
   "source": [
    "# python3\n",
    "\n",
    "def build_suffix_array( S ):\n",
    "    res = []\n",
    "    suffixes = []\n",
    "\n",
    "    for i in range(len(S)):\n",
    "        suffixes.append((i, S[i:]))\n",
    "\n",
    "    suffixes = sorted(suffixes, key=lambda t: t[1])\n",
    "\n",
    "    for i in range(len(suffixes)):\n",
    "        res.append(suffixes[i][0])\n",
    "\n",
    "    return res\n",
    "\n",
    "\n",
    "if __name__ == '__main__':\n",
    "    S = input()\n",
    "    print(\" \".join(map(str, build_suffix_array(S))))"
   ]
  },
  {
   "cell_type": "code",
   "execution_count": null,
   "metadata": {},
   "outputs": [],
   "source": []
  }
 ],
 "metadata": {
  "kernelspec": {
   "display_name": "Python 3",
   "language": "python",
   "name": "python3"
  },
  "language_info": {
   "codemirror_mode": {
    "name": "ipython",
    "version": 3
   },
   "file_extension": ".py",
   "mimetype": "text/x-python",
   "name": "python",
   "nbconvert_exporter": "python",
   "pygments_lexer": "ipython3",
   "version": "3.7.0"
  }
 },
 "nbformat": 4,
 "nbformat_minor": 2
}
