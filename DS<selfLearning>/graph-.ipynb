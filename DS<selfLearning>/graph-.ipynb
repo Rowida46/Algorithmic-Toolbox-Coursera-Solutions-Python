{
 "cells": [
  {
   "cell_type": "markdown",
   "metadata": {},
   "source": [
    "## graph using dictionary"
   ]
  },
  {
   "cell_type": "code",
   "execution_count": 20,
   "metadata": {},
   "outputs": [
    {
     "data": {
      "text/plain": [
       "{'a': ['c'],\n",
       " 'b': ['c', 'e'],\n",
       " 'c': ['a', 'b', 'd', 'e'],\n",
       " 'd': ['c'],\n",
       " 'e': ['c', 'b'],\n",
       " 'f': []}"
      ]
     },
     "execution_count": 20,
     "metadata": {},
     "output_type": "execute_result"
    }
   ],
   "source": [
    "graph = { \"a\" : [\"c\"],\n",
    "          \"b\" : [\"c\", \"e\"],\n",
    "          \"c\" : [\"a\", \"b\", \"d\", \"e\"],\n",
    "          \"d\" : [\"c\"],\n",
    "          \"e\" : [\"c\", \"b\"],\n",
    "          \"f\" : []\n",
    "        }\n",
    "graph"
   ]
  },
  {
   "cell_type": "code",
   "execution_count": 21,
   "metadata": {},
   "outputs": [
    {
     "data": {
      "text/plain": [
       "['a', 'b', 'c', 'd', 'e', 'f']"
      ]
     },
     "execution_count": 21,
     "metadata": {},
     "output_type": "execute_result"
    }
   ],
   "source": [
    "lis_element = sorted(graph.keys())\n",
    "lis_element"
   ]
  },
  {
   "cell_type": "markdown",
   "metadata": {},
   "source": [
    "## Adjacency List"
   ]
  },
  {
   "cell_type": "code",
   "execution_count": 22,
   "metadata": {},
   "outputs": [
    {
     "data": {
      "text/plain": [
       "[('a', 'c'),\n",
       " ('b', 'c'),\n",
       " ('b', 'e'),\n",
       " ('c', 'a'),\n",
       " ('c', 'b'),\n",
       " ('c', 'd'),\n",
       " ('c', 'e'),\n",
       " ('d', 'c'),\n",
       " ('e', 'c'),\n",
       " ('e', 'b')]"
      ]
     },
     "execution_count": 22,
     "metadata": {},
     "output_type": "execute_result"
    }
   ],
   "source": [
    "adjancy_list =[]\n",
    "for key in lis_element:\n",
    "    for edge in graph[key]:\n",
    "        adjancy_list.append((key , edge))\n",
    "adjancy_list"
   ]
  },
  {
   "cell_type": "code",
   "execution_count": 23,
   "metadata": {},
   "outputs": [
    {
     "data": {
      "text/plain": [
       "[('a', 'c'),\n",
       " ('b', 'c'),\n",
       " ('b', 'e'),\n",
       " ('c', 'a'),\n",
       " ('c', 'b'),\n",
       " ('c', 'd'),\n",
       " ('c', 'e'),\n",
       " ('d', 'c'),\n",
       " ('e', 'c'),\n",
       " ('e', 'b')]"
      ]
     },
     "execution_count": 23,
     "metadata": {},
     "output_type": "execute_result"
    }
   ],
   "source": [
    "## a function to create an list\n",
    "def generate_edges(graph):\n",
    "    edges = []\n",
    "    for node in graph:\n",
    "        for neighbour in graph[node]:\n",
    "            edges.append((node, neighbour))\n",
    "\n",
    "    return edges\n",
    "\n",
    "generate_edges(graph)"
   ]
  },
  {
   "cell_type": "markdown",
   "metadata": {},
   "source": [
    "### Adjacency matrice"
   ]
  },
  {
   "cell_type": "code",
   "execution_count": 24,
   "metadata": {},
   "outputs": [
    {
     "data": {
      "text/plain": [
       "[[0, 0, 0, 0, 0, 0],\n",
       " [0, 0, 0, 0, 0, 0],\n",
       " [0, 0, 0, 0, 0, 0],\n",
       " [0, 0, 0, 0, 0, 0],\n",
       " [0, 0, 0, 0, 0, 0],\n",
       " [0, 0, 0, 0, 0, 0]]"
      ]
     },
     "execution_count": 24,
     "metadata": {},
     "output_type": "execute_result"
    }
   ],
   "source": [
    "matrix =[[0 for i in range(len(graph))] for i in range(len(graph))]\n",
    "matrix"
   ]
  },
  {
   "cell_type": "code",
   "execution_count": 25,
   "metadata": {},
   "outputs": [
    {
     "data": {
      "text/plain": [
       "[[0, 0, 1, 0, 0, 0],\n",
       " [0, 0, 1, 0, 1, 0],\n",
       " [1, 1, 0, 1, 1, 0],\n",
       " [0, 0, 1, 0, 0, 0],\n",
       " [0, 1, 1, 0, 0, 0],\n",
       " [0, 0, 0, 0, 0, 0]]"
      ]
     },
     "execution_count": 25,
     "metadata": {},
     "output_type": "execute_result"
    }
   ],
   "source": [
    "for edge in adjancy_list:\n",
    "    r = lis_element.index(edge[0])\n",
    "    l = lis_element.index(edge[-1])\n",
    "    matrix[r][l] = 1\n",
    "matrix"
   ]
  },
  {
   "cell_type": "code",
   "execution_count": 26,
   "metadata": {},
   "outputs": [
    {
     "data": {
      "text/plain": [
       "['a', 'f']"
      ]
     },
     "execution_count": 26,
     "metadata": {},
     "output_type": "execute_result"
    }
   ],
   "source": [
    "graph = { \"a\" : [],\n",
    "          \"b\" : [\"c\", \"e\"],\n",
    "          \"c\" : [\"a\", \"b\", \"d\", \"e\"],\n",
    "          \"d\" : [\"c\"],\n",
    "          \"e\" : [\"c\", \"b\"],\n",
    "          \"f\" : []\n",
    "        }\n",
    "\n",
    "def find_isolated_nodes(graph):\n",
    "    \"\"\" returns a list of isolated nodes. \"\"\"\n",
    "    iso = []\n",
    "    for node in graph:\n",
    "        if not graph[node]:\n",
    "            iso += node\n",
    "    return iso\n",
    "find_isolated_nodes(graph)"
   ]
  },
  {
   "cell_type": "markdown",
   "metadata": {},
   "source": [
    "### Graphs as a Python Class"
   ]
  },
  {
   "cell_type": "code",
   "execution_count": 27,
   "metadata": {},
   "outputs": [],
   "source": [
    "class Graph :\n",
    "   \n",
    "    def __init__(self , graph_dict = None):\n",
    "        if not graph_dict :\n",
    "            graph_dict = {}\n",
    "        self.graph = graph_dict\n",
    "    \n",
    "    def get_vertices(self):\n",
    "        return sorted(self.graph.keys())\n",
    "    \n",
    "    def get_edges(self):\n",
    "        edges = []\n",
    "        for vertex in self.graph:\n",
    "            for neighbour in self.graph[vertex]:\n",
    "                if {neighbour, vertex} not in edges:\n",
    "                    edges.append((vertex, neighbour))\n",
    "        return edges\n",
    "    def add_vertex (self , ver):\n",
    "        if ver not in self.graph:\n",
    "            self.graph[ver] = []\n",
    "    def add_edge(self ,edge):\n",
    "        ver , nigh = tuple(set(edge))\n",
    "        if ver in self.graph:\n",
    "            self.graph[ver] = [nigh]\n",
    "        else :\n",
    "            self.graph[ver].append(nigh)\n",
    "    def dfs(self, v):\n",
    "        self.visited[v] = True\n",
    "        for w in self.graph[v]:\n",
    "            if not self.visited[w]:\n",
    "                self.dfs(w)\n",
    "    def number_of_components(self): ### calc number of connected components\n",
    "        self.visited = [False]*len(self.graph)\n",
    "        components = 0\n",
    "        for v in range(len(self.graph )):\n",
    "            if not self.visited[v]:\n",
    "                self.dfs(v)\n",
    "                components += 1\n",
    "    #write your code here\n",
    "        return components\n",
    "    \n",
    "    def find_path(self, start, end , path=None):\n",
    "        if not path :\n",
    "            path = []\n",
    "        path+= [start]\n",
    "        if end == start :\n",
    "            return path\n",
    "        if start not in self.graph:\n",
    "            return False\n",
    "        for ver in self.graph[start]:\n",
    "            if ver not in path :\n",
    "                extended_path = self.find_path(ver ,\n",
    "                                               end , \n",
    "                                               path)\n",
    "                if extended_path: \n",
    "                    return extended_path\n",
    "        return None\n",
    "    def vertex_degree(self, vertex):\n",
    "        adj_ver = self.graph[vertex]\n",
    "        degree = len(adj_ver) + adj_ver.count(vertex)\n",
    "        return degree\n",
    "    def find_isolated_vertices(self):\n",
    "        iso = []\n",
    "        for ver in self.graph:\n",
    "            if not self.graph[ver] :\n",
    "                iso+=[ver]\n",
    "        return iso\n",
    "    def find_min_degree(self):\n",
    "        Min = 1000000\n",
    "        for ver in self.graph:\n",
    "            degree_nom = self.vertex_degree(ver)\n",
    "            if degree_nom < Min :\n",
    "                Min = degree_nom\n",
    "        return Min\n",
    "    def find_max_degree (self):  ##the maximum degree of the vertices \n",
    "        Max = 0 \n",
    "        for ver in self.graph:\n",
    "            degree_nom = self.vertex_degree(ver)\n",
    "            if degree_nom > Max :\n",
    "                Max = degree_nom\n",
    "        return Max\n",
    "    def delta(self): ### to get the differance between min and max degree\n",
    "        return self.find_max_degree() - self.find_min_degree()\n",
    "    def degree_sequence(self):\n",
    "        seq = []\n",
    "        for ver in self.graph:\n",
    "            seq.append(self.vertex_degree(ver))\n",
    "        seq.sort(reverse=True)\n",
    "        return tuple(seq)\n",
    "    "
   ]
  },
  {
   "cell_type": "code",
   "execution_count": 28,
   "metadata": {},
   "outputs": [],
   "source": [
    "g = { \"a\" : [\"d\"],\n",
    "          \"b\" : [\"c\"],\n",
    "          \"c\" : [\"b\", \"c\", \"d\", \"e\"],\n",
    "          \"d\" : [\"a\", \"c\"],\n",
    "          \"e\" : [\"c\"],\n",
    "          \"f\" : []\n",
    "        }\n",
    "\n",
    "graph = Graph(g)\n"
   ]
  },
  {
   "cell_type": "code",
   "execution_count": 29,
   "metadata": {},
   "outputs": [
    {
     "data": {
      "text/plain": [
       "['a', 'b', 'c', 'd', 'e', 'f']"
      ]
     },
     "execution_count": 29,
     "metadata": {},
     "output_type": "execute_result"
    }
   ],
   "source": [
    "graph.get_vertices()"
   ]
  },
  {
   "cell_type": "code",
   "execution_count": 30,
   "metadata": {},
   "outputs": [
    {
     "name": "stdout",
     "output_type": "stream",
     "text": [
      "[('a', 'd'), ('b', 'c'), ('c', 'b'), ('c', 'c'), ('c', 'd'), ('c', 'e'), ('d', 'a'), ('d', 'c'), ('e', 'c')]\n"
     ]
    }
   ],
   "source": [
    "print(graph.get_edges())\n"
   ]
  },
  {
   "cell_type": "code",
   "execution_count": 31,
   "metadata": {},
   "outputs": [
    {
     "name": "stdout",
     "output_type": "stream",
     "text": [
      "['a', 'b', 'c', 'd', 'e', 'f', 'z']\n"
     ]
    }
   ],
   "source": [
    "graph.add_vertex(\"z\")\n",
    "print(graph.get_vertices())"
   ]
  },
  {
   "cell_type": "code",
   "execution_count": 32,
   "metadata": {},
   "outputs": [
    {
     "data": {
      "text/plain": [
       "['a', 'b', 'c', 'd', 'e', 'f', 'z']"
      ]
     },
     "execution_count": 32,
     "metadata": {},
     "output_type": "execute_result"
    }
   ],
   "source": [
    "graph.add_edge({\"a\",\"z\"})\n",
    "graph.get_vertices()"
   ]
  },
  {
   "cell_type": "code",
   "execution_count": 33,
   "metadata": {},
   "outputs": [
    {
     "data": {
      "text/plain": [
       "{'a': ['d'],\n",
       " 'b': ['c'],\n",
       " 'c': ['b', 'c', 'd', 'e'],\n",
       " 'd': ['a', 'c'],\n",
       " 'e': ['c'],\n",
       " 'f': []}"
      ]
     },
     "execution_count": 33,
     "metadata": {},
     "output_type": "execute_result"
    }
   ],
   "source": [
    "g = { \"a\" : [\"d\"],\n",
    "      \"b\" : [\"c\"],\n",
    "      \"c\" : [\"b\", \"c\", \"d\", \"e\"],\n",
    "      \"d\" : [\"a\", \"c\"],\n",
    "      \"e\" : [\"c\"],\n",
    "      \"f\" : []\n",
    "    }\n",
    "g"
   ]
  },
  {
   "cell_type": "code",
   "execution_count": 34,
   "metadata": {},
   "outputs": [
    {
     "name": "stdout",
     "output_type": "stream",
     "text": [
      "['a', 'd', 'c', 'b']\n"
     ]
    }
   ],
   "source": [
    "graph = Graph(g)\n",
    "path = graph.find_path(\"a\", \"b\")\n",
    "print(path)\n",
    "\n"
   ]
  },
  {
   "cell_type": "code",
   "execution_count": 35,
   "metadata": {},
   "outputs": [
    {
     "data": {
      "text/plain": [
       "5"
      ]
     },
     "execution_count": 35,
     "metadata": {},
     "output_type": "execute_result"
    }
   ],
   "source": [
    "graph.vertex_degree(\"c\")"
   ]
  },
  {
   "cell_type": "code",
   "execution_count": 36,
   "metadata": {},
   "outputs": [
    {
     "data": {
      "text/plain": [
       "1"
      ]
     },
     "execution_count": 36,
     "metadata": {},
     "output_type": "execute_result"
    }
   ],
   "source": [
    "graph.vertex_degree(\"e\")"
   ]
  },
  {
   "cell_type": "code",
   "execution_count": 37,
   "metadata": {},
   "outputs": [
    {
     "data": {
      "text/plain": [
       "['f']"
      ]
     },
     "execution_count": 37,
     "metadata": {},
     "output_type": "execute_result"
    }
   ],
   "source": [
    "graph.find_isolated_vertices()"
   ]
  },
  {
   "cell_type": "code",
   "execution_count": 38,
   "metadata": {},
   "outputs": [
    {
     "data": {
      "text/plain": [
       "5"
      ]
     },
     "execution_count": 38,
     "metadata": {},
     "output_type": "execute_result"
    }
   ],
   "source": [
    "graph.delta()"
   ]
  }
 ],
 "metadata": {
  "kernelspec": {
   "display_name": "Python 3",
   "language": "python",
   "name": "python3"
  },
  "language_info": {
   "codemirror_mode": {
    "name": "ipython",
    "version": 3
   },
   "file_extension": ".py",
   "mimetype": "text/x-python",
   "name": "python",
   "nbconvert_exporter": "python",
   "pygments_lexer": "ipython3",
   "version": "3.7.0"
  }
 },
 "nbformat": 4,
 "nbformat_minor": 2
}
